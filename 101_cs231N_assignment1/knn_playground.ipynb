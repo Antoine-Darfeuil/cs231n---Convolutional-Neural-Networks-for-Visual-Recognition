{
 "cells": [
  {
   "cell_type": "markdown",
   "metadata": {},
   "source": [
    "# k-Nearest Neighbor (kNN) Playground\n",
    "\n",
    "*Complete and hand in this completed worksheet (including its outputs and any supporting code outside of the worksheet) with your assignment submission. For more details see the [assignments page](http://vision.stanford.edu/teaching/cs231n/assignments.html) on the course website.*\n",
    "\n",
    "The kNN classifier consists of two stages:\n",
    "\n",
    "- During training, the classifier takes the training data and simply remembers it\n",
    "- During testing, kNN classifies every test image by comparing to all training images and transfering the labels of the k most similar training examples\n",
    "- The value of k is cross-validated\n",
    "\n",
    "In this exercise you will implement these steps and understand the basic Image Classification pipeline, cross-validation, and gain proficiency in writing efficient, vectorized code."
   ]
  },
  {
   "cell_type": "code",
   "execution_count": null,
   "metadata": {
    "collapsed": true
   },
   "outputs": [],
   "source": [
    "# Run some setup code for this notebook.\n",
    "\n",
    "import random\n",
    "import numpy as np\n",
    "from cs231n.data_utils import load_CIFAR10\n",
    "import matplotlib.pyplot as plt\n",
    "\n",
    "from __future__ import print_function\n",
    "\n",
    "# This is a bit of magic to make matplotlib figures appear inline in the notebook\n",
    "# rather than in a new window.\n",
    "%matplotlib inline\n",
    "plt.rcParams['figure.figsize'] = (10.0, 8.0) # set default size of plots\n",
    "plt.rcParams['image.interpolation'] = 'nearest'\n",
    "plt.rcParams['image.cmap'] = 'gray'\n",
    "\n",
    "# Some more magic so that the notebook will reload external python modules;\n",
    "# see http://stackoverflow.com/questions/1907993/autoreload-of-modules-in-ipython\n",
    "%load_ext autoreload\n",
    "%autoreload 2"
   ]
  },
  {
   "cell_type": "code",
   "execution_count": null,
   "metadata": {},
   "outputs": [],
   "source": [
    "# Load the raw CIFAR-10 data.\n",
    "#cifar10_dir = 'cs231n/datasets/cifar-10-batches-py'#\n",
    "cifar10_dir = '/home/antoine/Documents/01_Tensorflow_Tensorboard_Programs/CIFAR10_data'\n",
    "\n",
    "X_train, y_train, X_test, y_test = load_CIFAR10(cifar10_dir)\n",
    "\n",
    "# As a sanity check, we print out the size of the training and test data.\n",
    "print('Training data shape: ', X_train.shape)\n",
    "print('Training labels shape: ', y_train.shape)\n",
    "print('Test data shape: ', X_test.shape)\n",
    "print('Test labels shape: ', y_test.shape)"
   ]
  },
  {
   "cell_type": "code",
   "execution_count": null,
   "metadata": {
    "collapsed": true
   },
   "outputs": [],
   "source": [
    "# Subsample the data for more efficient code execution in this exercise\n",
    "num_training = 5000\n",
    "mask = list(range(num_training))\n",
    "X_train = X_train[mask]\n",
    "y_train = y_train[mask]\n",
    "\n",
    "num_test = 500\n",
    "mask = list(range(num_test))\n",
    "X_test = X_test[mask]\n",
    "y_test = y_test[mask]"
   ]
  },
  {
   "cell_type": "code",
   "execution_count": null,
   "metadata": {},
   "outputs": [],
   "source": [
    "# Reshape the image data into rows\n",
    "X_train = np.reshape(X_train, (X_train.shape[0], -1))\n",
    "X_test = np.reshape(X_test, (X_test.shape[0], -1))\n",
    "print(X_train.shape, X_test.shape)"
   ]
  },
  {
   "cell_type": "code",
   "execution_count": null,
   "metadata": {
    "collapsed": true
   },
   "outputs": [],
   "source": [
    "from cs231n.classifiers import KNearestNeighbor\n",
    "\n",
    "# Create a kNN classifier instance. \n",
    "# Remember that training a kNN classifier is a noop: \n",
    "# the Classifier simply remembers the data and does no further processing \n",
    "classifier = KNearestNeighbor()"
   ]
  },
  {
   "cell_type": "markdown",
   "metadata": {},
   "source": [
    "## I - Testing the k-NearestNeighbor on Simple Dataset"
   ]
  },
  {
   "cell_type": "code",
   "execution_count": null,
   "metadata": {},
   "outputs": [],
   "source": [
    "# Train dataset:\n",
    "\n",
    "# Features :\n",
    "X1 = np.array([[1,2], [3,4], [2,2], [2,5], [1,9], [2,10], [3,1], [4,5], [3,8], [4,2]]).T\n",
    "X2 = np.array([[7,9], [8,9], [7,1], [6,5], [5,7], [5,1], [8,4], [7,12], [7,5], [8,15]]).T\n",
    "X3 = np.array([[4,20], [3,13], [5,12], [4,16], [6,15], [5,15], [5,19], [3,17], [2,15], [6,19]]).T\n",
    "\n",
    "# Labels : \n",
    "y1 = np.zeros(10)\n",
    "y2 = np.ones(10)\n",
    "y3 = np.ones(10)*2\n",
    "\n",
    "X = np.hstack([X1,X2,X3]).T \n",
    "y = np.hstack([y1,y2,y3])\n",
    "\n",
    "print(\"labels:\",y.shape)\n",
    "print(\"features:\",X.shape)"
   ]
  },
  {
   "cell_type": "code",
   "execution_count": null,
   "metadata": {},
   "outputs": [],
   "source": [
    "# Training on the dataset:\n",
    "classifier.train(X, y)"
   ]
  },
  {
   "cell_type": "code",
   "execution_count": null,
   "metadata": {},
   "outputs": [],
   "source": [
    "from matplotlib.colors import ListedColormap\n",
    "cmap_light = ListedColormap(['#FFAAAA', '#AAFFAA', '#AAAAFF'])\n",
    "\n",
    "k       = 3\n",
    "h       = .05\n",
    "xx, yy  = np.meshgrid(np.arange(0,9,h), np.arange(0,21,h))\n",
    "zz      = np.c_[xx.ravel(), yy.ravel()]\n",
    "\n",
    "dists   = classifier.compute_distances_no_loops(zz)\n",
    "y_preds = classifier.predict_labels(dists, k=k)\n",
    "y_preds = y_preds.reshape(xx.shape)\n",
    "\n",
    "print(zz.shape)\n",
    "print(dists.shape)\n",
    "print(y_preds.shape)\n",
    "\n",
    "plt.figure()\n",
    "plt.pcolormesh(xx, yy, y_preds, cmap=cmap_light)\n",
    "plt.scatter(X1[0],X1[1], c='r')\n",
    "plt.scatter(X2[0],X2[1], c='g')\n",
    "plt.scatter(X3[0],X3[1], c='b')\n",
    "plt.title(\"{}-NearestNeighbor Algorithm\".format(k))\n",
    "plt.xlabel(\"x\")\n",
    "plt.ylabel(\"y\")\n",
    "plt.axis('equal')\n",
    "plt.show()\n"
   ]
  },
  {
   "cell_type": "markdown",
   "metadata": {},
   "source": [
    "## II - Testing the k-NearestNeighbor on CIFAR10\n",
    "### II0 - Introduction"
   ]
  },
  {
   "cell_type": "code",
   "execution_count": null,
   "metadata": {},
   "outputs": [],
   "source": [
    "N = 15\n",
    "X = X_train[10:10+N]\n",
    "Y = y_train[10:10+N]\n",
    "print(\"X:\", X.shape)\n",
    "print(\"Y:\", Y)\n",
    "\n",
    "# Plot1 ========================== :\n",
    "for i in range(10):\n",
    "    plt.subplot(1, 10, i+1)\n",
    "    plt.imshow(X[i].reshape(32,32,3).astype(\"uint8\"))\n",
    "    plt.title(Y[i])\n",
    "    plt.axis(\"off\")\n",
    "plt.show()\n",
    "\n",
    "# Plot2 ============================ :\n",
    "# Learning how to sort the features array X in function of the labels array Y:\n",
    "idxs = np.argsort(Y)\n",
    "X = X[idxs]\n",
    "\n",
    "for i in range(10):\n",
    "    plt.subplot(1, 10, i+1)\n",
    "    plt.imshow(X[i].reshape(32,32,3).astype(\"uint8\"))\n",
    "    plt.title(np.sort(Y)[i])\n",
    "    plt.axis(\"off\")\n",
    "plt.show()"
   ]
  },
  {
   "cell_type": "markdown",
   "metadata": {},
   "source": [
    "### IIA - Playing with the training set"
   ]
  },
  {
   "cell_type": "code",
   "execution_count": null,
   "metadata": {
    "scrolled": false
   },
   "outputs": [],
   "source": [
    "k = 6\n",
    "N = 100\n",
    "X = X_train[:N]\n",
    "Y = y_train[:N]\n",
    "\n",
    "###############################\n",
    "# if using the simple dataset #\n",
    "# N = 30                      #\n",
    "# Y = y                       #\n",
    "###############################\n",
    "\n",
    "sorted_Y = np.sort(Y)\n",
    "\n",
    "\n",
    "nn = KNearestNeighbor()\n",
    "\n",
    "# Creating the ideal result:\n",
    "ideal = np.zeros((N,N))\n",
    "for i in range(N):\n",
    "    for j in range(N):\n",
    "        ideal[i,j] = 1 if sorted_Y[i]==sorted_Y[j] else 0\n",
    "        \n",
    "# Computing distances:\n",
    "nn.train(X, Y)\n",
    "D1 = nn.compute_distances_no_loops(X)\n",
    "\n",
    "# Computing distances of ordered X values:\n",
    "idxs = np.argsort(Y)\n",
    "X = X[idxs]\n",
    "nn.train(X, sorted_Y)\n",
    "D2 = nn.compute_distances_no_loops(X)\n",
    "\n",
    "# Predictions:\n",
    "Y_pred = nn.predict_labels(D2, k=k)\n",
    "res = np.zeros((N,N))\n",
    "for i in range(N):\n",
    "    for j in range(N):\n",
    "        res[i,j] = Y_pred[i]==sorted_Y[j]\n",
    "\n",
    "        \n",
    "# Plotting results:\n",
    "\n",
    "# Plot1:\n",
    "plt.imshow(-D1, interpolation='none', cmap='RdYlGn')\n",
    "plt.xlabel(\"X_train\")\n",
    "plt.ylabel(\"X_train\")\n",
    "plt.title(\"Distances\")\n",
    "plt.show()\n",
    "\n",
    "# plot2:\n",
    "plt.imshow(-D2, interpolation='none', cmap='RdYlGn')\n",
    "plt.xlabel(\"X_train\")\n",
    "plt.ylabel(\"X_train\")\n",
    "plt.title(\"Ordered Distances\")\n",
    "plt.show()\n",
    "\n",
    "# Plot3:\n",
    "extent = 0, N, N, 0\n",
    "plt.figure()\n",
    "plt.imshow(-D2, interpolation='none', cmap='RdYlGn', extent=extent)\n",
    "plt.imshow(-ideal, interpolation='none', cmap='Greys', alpha=0.3, extent=extent)\n",
    "plt.xlabel(\"X_train\")\n",
    "plt.ylabel(\"X_train\")\n",
    "plt.title(\"Ordered Distances with labels overlayed\")\n",
    "plt.show()\n",
    "\n",
    "# plot4:\n",
    "extent = 0, N, N, 0\n",
    "plt.figure()\n",
    "plt.imshow(res, interpolation='none', cmap='RdYlGn', extent=extent)\n",
    "plt.imshow(-ideal, interpolation='none', cmap='Greys', alpha=0.2, extent=extent)\n",
    "plt.xlabel(\"X_train\")\n",
    "plt.ylabel(\"X_train\")\n",
    "plt.title(\"{}-NearestNeighbor Predictions\".format(k))\n",
    "plt.show()"
   ]
  },
  {
   "cell_type": "markdown",
   "metadata": {},
   "source": [
    "### IIB - Playing with the testing set"
   ]
  },
  {
   "cell_type": "code",
   "execution_count": null,
   "metadata": {},
   "outputs": [],
   "source": [
    "sorted_y_train = np.sort(y_train)\n",
    "sorted_y_test  = np.sort(y_test)\n",
    "\n",
    "# Creating the ideal result:\n",
    "ideal = np.zeros((num_test, num_training))\n",
    "for i in range(num_test):\n",
    "    for j in range(num_training):\n",
    "        ideal[i,j] = 1 if sorted_y_test[i]==sorted_y_train[j] else 0\n",
    "        \n",
    "# plot:\n",
    "plt.figure()\n",
    "plt.imshow(ideal, interpolation='none', cmap='Greys', alpha=0.9)\n",
    "plt.xlabel(\"X train\")\n",
    "plt.ylabel(\"X test\")\n",
    "plt.title(\"Ideal Results\".format(k))\n",
    "plt.show()"
   ]
  },
  {
   "cell_type": "code",
   "execution_count": null,
   "metadata": {},
   "outputs": [],
   "source": [
    "classifier.train(X_train, y_train)\n",
    "D1 = classifier.compute_distances_no_loops(X_test)\n",
    "\n",
    "# plot:\n",
    "plt.figure()\n",
    "plt.imshow(D1[:100,:], interpolation='none', cmap='Greys', alpha=0.9)\n",
    "plt.xlabel(\"X test\")\n",
    "plt.ylabel(\"X train\")\n",
    "plt.title(\"Distances\".format(k))\n",
    "plt.show()"
   ]
  },
  {
   "cell_type": "code",
   "execution_count": null,
   "metadata": {},
   "outputs": [],
   "source": [
    "idxs_train = np.argsort(y_train)\n",
    "idxs_test  = np.argsort(y_test)\n",
    "\n",
    "D2 = D1[idxs_test,:]\n",
    "D2 = D2[:,idxs_train]\n",
    "\n",
    "# plot:\n",
    "plt.figure()\n",
    "plt.imshow(D2, interpolation='none', cmap='Greys', alpha=0.9)\n",
    "plt.xlabel(\"X train\")\n",
    "plt.ylabel(\"X test\")\n",
    "plt.title(\"Distances\".format(k))\n",
    "plt.show()"
   ]
  },
  {
   "cell_type": "code",
   "execution_count": null,
   "metadata": {},
   "outputs": [],
   "source": [
    "k       = 10\n",
    "y_preds = classifier.predict_labels(D1, k=k)\n",
    "\n",
    "# Predictions:\n",
    "predictions = np.zeros((num_test, num_training))\n",
    "for i in range(num_test):\n",
    "    for j in range(num_training):\n",
    "        predictions[i,j] = (y_preds[i]==y_train[j])\n",
    "\n",
    "# plot1:\n",
    "plt.figure()\n",
    "plt.imshow(predictions, interpolation='none', cmap='Greys', alpha=0.9)\n",
    "plt.xlabel(\"X train\")\n",
    "plt.ylabel(\"X test\")\n",
    "plt.title(\"{}-NearestNeighbor\".format(k))\n",
    "plt.show()        \n",
    "         \n",
    "# Ordering the array:\n",
    "sorted_predictions = predictions[idxs_test,:]\n",
    "sorted_predictions = predictions[:,idxs_train]\n",
    "\n",
    "# plot2:\n",
    "extent = 0, num_training, num_test, 0\n",
    "plt.figure()\n",
    "plt.imshow(sorted_predictions, interpolation='none', cmap='Greys', extent=extent)\n",
    "plt.imshow(-ideal, interpolation='none', cmap='Greys', alpha=0.2, extent=extent)\n",
    "plt.xlabel(\"X train\")\n",
    "plt.ylabel(\"X test\")\n",
    "plt.title(\"{}-NearestNeighbor\".format(k))\n",
    "plt.show()"
   ]
  },
  {
   "cell_type": "code",
   "execution_count": null,
   "metadata": {},
   "outputs": [],
   "source": [
    "# Compute accuracy:\n",
    "accuracy = np.sum(y_preds == y_test) / float(num_test) *100\n",
    "print(\"Accuracy: {:.2f}%\".format(accuracy))"
   ]
  }
 ],
 "metadata": {
  "kernelspec": {
   "display_name": "Python 2",
   "language": "python",
   "name": "python2"
  },
  "language_info": {
   "codemirror_mode": {
    "name": "ipython",
    "version": 2
   },
   "file_extension": ".py",
   "mimetype": "text/x-python",
   "name": "python",
   "nbconvert_exporter": "python",
   "pygments_lexer": "ipython2",
   "version": "2.7.14"
  }
 },
 "nbformat": 4,
 "nbformat_minor": 2
}
